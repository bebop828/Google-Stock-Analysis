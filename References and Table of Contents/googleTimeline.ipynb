{
 "cells": [
  {
   "cell_type": "markdown",
   "id": "32963148",
   "metadata": {},
   "source": [
    "# <span style=\"color: blue;\">G</span><span style=\"color: red;\">o</span><span style=\"color: yellow;\">o</span><span style=\"color: blue;\">g</span><span style=\"color: green;\">l</span><span style=\"color: red;\">e</span> Timeline Breakdown\n"
   ]
  },
  {
   "cell_type": "markdown",
   "id": "ac6f58f2",
   "metadata": {},
   "source": [
    "### Table of Contents:"
   ]
  },
  {
   "cell_type": "markdown",
   "id": "dce3594b",
   "metadata": {},
   "source": [
    "### **<span style=\"color: blue;\">2004</span>**\n",
    "\n",
    "1. **Initial Public Offering (IPO)**: August 19, 2004   \n",
    "2. **Launch of Google Desktop Search**: October 14, 2004  \n",
    "3. **Acquisition of Keyhole Inc.**: October 27, 2004  \n",
    "4. **Google Scholar Launches**: November 20, 2004  \n",
    "5. **Goolgle Book Search**: Dec 14, 2004  "
   ]
  },
  {
   "cell_type": "markdown",
   "id": "d07b1e4b",
   "metadata": {},
   "source": [
    "### **<span style=\"color: red;\">2005</span>**\n",
    "\n",
    "1. **Launch of Google Video**: January 25, 2005\n",
    "2. **Launch of Google Maps**: February 8, 2005  \n",
    "3. **Launch of Google Earth**: June 28, 2005.     \n",
    "4. **Acquisition of Android Inc.**: July 11, 2005  \n",
    "5. **Introduction of Google Talk**: August 24, 2005\n",
    "6. **Launch of Google Reader**: October 7, 2005  \n",
    "7. **Introduction of Google Analytics**: November 1, 2005  \n",
    "\n"
   ]
  },
  {
   "cell_type": "markdown",
   "id": "432001d8",
   "metadata": {},
   "source": [
    "### **<span style=\"color: yellow;\">2006</span>**\n",
    "\n",
    "1. **Acquisition of Writely**: March 9, 2006   \n",
    "2. **Launch of Google Calendar (available in beta)**: April 13, 2006.  \n",
    "3. **Introduction of Google Trends**: May 11, 2006   \n",
    "4. **Introduction of Google Spreadsheets**: June 6, 2006  \n",
    "5. **Google Picasa Web Album**: June 14, 2006  \n",
    "6. **Google Checkout**: June 29, 2006  \n",
    "7. **Google Apps for your Domain**: August 28,2006  \n",
    "8. **Google acquires Jotspot**: October 31, 2006  \n",
    "9.  **Acquisition of YouTube**: November 13, 2006  \n"
   ]
  },
  {
   "cell_type": "markdown",
   "id": "75597f75",
   "metadata": {},
   "source": [
    "### **<span style=\"color: blue;\">2007</span>**  \n",
    "\n",
    "1. **Google acquires YouTube’s ad-serving technology**: January 24, 2007.      \n",
    "2. **Google acquires DoubleClick**: April 13, 2007  \n",
    "3. **Google launch of Universal Search**: May 16, 2007 \n",
    "4. **Google StreetView is launched**: May 29, 2007  \n",
    "5. **Google Launches Google Gears**: May 30, 2007  \n",
    "6. **Google acquires Postini**: July 10, 2007  \n",
    "7. **Google launches AdSense for Mobile**: September 18, 2007\n",
    "8. **Acquisition of Zingku**: September 27, 2007  \n",
    "9. **Google unveils Android**: November 5, 2007  "
   ]
  },
  {
   "cell_type": "markdown",
   "id": "1a6feb56",
   "metadata": {},
   "source": [
    "### **<span style=\"color: green;\">2008</span>**  \n",
    "\n",
    "1. **Google launches Google Sites**: February 28, 2008  \n",
    "2. **Google launches Google Friend Connect**: May 12, 2008   \n",
    "3. **Google launches Google Earth Outreach**: June 26, 2008  \n",
    "4. **Google Launches Google Knol**: July 23, 2008  \n",
    "5. **Google Chrome Browser officially launched**: September 2, 2008  \n",
    "6. **Google launches the first Android phone**: September 23, 2008  \n",
    "7. **Google introduces Google Flu Trends**: November 11, 2008  \n",
    "\n",
    "\n"
   ]
  },
  {
   "cell_type": "markdown",
   "id": "8afd9df5",
   "metadata": {},
   "source": [
    "### **<span style=\"color: red;\">2009</span>**\n",
    "\n",
    "\n",
    "\n",
    "\n",
    "1. **Google introduces Google Latitude**: February 4, 2009    \n",
    "2. **Google becomes the top U.S. internet property by unique monthly worldwide visitors**: March 2009  \n",
    "3. **Google launches Google Voice**: March 11, 2009   \n",
    "4. **Google Announces Chrome OS**: July 7, 2009  \n",
    "5. **Google acquires On2 Technologies**: August 6, 2009   \n",
    "6. **Google Goggles Launches**: October 5, 2009     \n",
    "7. **Google introduces real-time search**: Dec 7, 2009   \n"
   ]
  },
  {
   "cell_type": "markdown",
   "id": "243e802b",
   "metadata": {},
   "source": [
    "### **<span style=\"color: blue;\">2010</span>**    \n",
    "1. **Launch of Nexus One**: January 5, 2010  \n",
    "2. **Google Stops Censoring Search Results in China**: March 22, 2010  \n",
    "4. **Google TV Announcement**: May 19, 2010  \n",
    "5. **Google Pac-Man Doodle**:May 21, 2010  \n",
    "6. **Google Acquires ITA Software**:July 1, 2010    \n",
    "7. **Google App Inventor for Android Launched**: July 12, 2010    \n",
    "8. **Launch of Google Instant**: September 8, 2010 \n",
    "9. **Google Launches Google Place Search**: October 12, 2010  \n",
    "10. **Google Acquires Widevine**: December 3, 2010  \n",
    "11. **Introduction of Google eBooks (Now Google Play Books)**: December 6, 2010 "
   ]
  },
  {
   "cell_type": "markdown",
   "id": "cd05a064",
   "metadata": {},
   "source": [
    "### **<span style=\"color: red;\">2011</span>**  \n",
    "\n",
    "1. **Launch of the Panda Algorithm Update**: February 24, 2011  \n",
    "2. **Google Acquires BeatThatQuote.com**: March 7, 2011  \n",
    "3. **Google Introduces Instant Previews for Ads**: April 26th, 2011  \n",
    "4. **Launch of Chromebook**: June 15, 2011   \n",
    "5. **Google+ Launches**: June 28, 2011  \n",
    "6. **Google Acquires The Dealmap**: August 1, 2011  \n",
    "7. **Google Acquires Motorola Mobility**: August 15, 2011   \n",
    "8. **Launch of Google Flights**: September 13th, 2011 \n",
    "9. **Introduction of \"Google Wallet\"**: September 19th, 2011    \n",
    "10. **Google+ Opens to the Public**: September 20, 2011   \n",
    "11. **Google Launches Google Music**: November 3, 2011    \n",
    "12. **Launch of Google Currents**: December 8, 2011  "
   ]
  },
  {
   "cell_type": "markdown",
   "id": "722564d8",
   "metadata": {},
   "source": [
    "### **<span style=\"color: yellow;\">2012</span>**  \n",
    "\n",
    "1. **Google Launches \"Search Plus Your World\"**: January 10, 2012  \n",
    "2. **Google Glass was Publicly Announced**: April 4, 2012  \n",
    "3. **Google I/O Developer Conference**: June 27, 2012         \n",
    "4. **Google Nexus 7 Available for Purchase**: July 13, 2012  \n",
    "5. **Google Acquires Wildfire Interactive**: July 31, 2012  \n",
    "6. **Google Acquires Frommer's Travel Guides**: August 15, 2012    \n",
    "7. **Nexus 4 and Nexus 10 available for sale**: Novemeber 13, 2012   \n",
    "8. **Google+ Communities Launch**: December 6, 2012 \n",
    "9. **Google Maps Returns to iOS**: December 12, 2012   "
   ]
  },
  {
   "cell_type": "markdown",
   "id": "ae5bcc59",
   "metadata": {},
   "source": [
    "### **<span style=\"color: blue;\">2013</span>**  \n",
    "\n",
    "1. **Google Acquires Channel Intelligence**: February 6, 2013  \n",
    "2. **Launch of Chromebook Pixel**: February 21, 2013  \n",
    "3. **Google I/O Developer Conference**: May 15-17, 2013  \n",
    "4. **Google Acquires Waze**: June 11, 2013         \n",
    "5. **Launch of Project Loon**: June 14, 2013  \n",
    "6. **Shutdown of Google Reader**: July 1, 2013  \n",
    "7. **Google Launches Hummingbird Algorithm**: September 23, 2013  \n",
    "8. **Launch of Nexus 5 and Android 4.4 (KitKat)**: October 31, 2013 \n"
   ]
  },
  {
   "cell_type": "markdown",
   "id": "05c5f8ea",
   "metadata": {},
   "source": [
    "### **<span style=\"color: green;\">2014</span>**  \n",
    "\n",
    "1. **Google Acquires Nest Labs**: January 13, 2014  \n",
    "2. **Google Acquires DeepMind**: January 27, 2014   \n",
    "3. **Sale of Motorola Mobility to Lenovo**: January 29, 2014  \n",
    "4. **Google Glass Goes on Sale to the Public**: May 15, 2014  \n",
    "5. **Google Launches the \"Made with Code\" Initiative**: June 19, 2014 \n",
    "6. **Google I/O Developer Confrence**: June 25-26, 2014     \n",
    "7. **Google Launches Inbox by Gmail**: October 22, 2014  \n",
    "8. **Google Introduces \"Mobile-Friendly\" Labels**: November 18, 2014  \n",
    "9. **Google Self-Driving Car Prototype Revealed**: December 23, 2014 "
   ]
  },
  {
   "cell_type": "markdown",
   "id": "61734076",
   "metadata": {},
   "source": [
    "### **<span style= \"color: red;\">2015</span>**  \n",
    "\n",
    "1. **Google’s First Quarter Earnings Report**: April 23, 2015  \n",
    "2. **Google I/O Developer Conference**: May 28-29, 2015    \n",
    "3. **Restructuring as Alphabet Inc**: August 10, 2015  \n",
    "4. **Launch of Android 6.0 (Marshmallow)**: September 29, 2015  \n",
    "5. **Launch of Google Play Music's Family Plan**: September 29, 2015     \n",
    "6. **Google reports on Youtube Revenue Growth**: December 2015  "
   ]
  },
  {
   "cell_type": "markdown",
   "id": "7308a0d3",
   "metadata": {},
   "source": [
    "### **<span style= \"color: blue;\">2016</span>**  \n",
    "\n",
    "1. **Picsa Web Albumns discontinued**: March 15, 2016  \n",
    "2. **Google I/O Developers Conference**: May 18-20, 2016  \n",
    "3. **Acquisition of Anvato**: July 7, 2016  \n",
    "4. **Launch of Google Duo**: August 16, 2016  \n",
    "5. **Acquistion of Apigee**: September 8, 2016  \n",
    "6. **Launch of Google Pixel**: October 4, 2016  \n",
    "7. **Expansion of Google Assistant to Other Devices**: October 4, 2016\n",
    "8. **Google’s Q3 Earnings Report**: October 27, 2016  \n",
    "9. **Google Home Released for Pre-Order**: November 4, 2016  "
   ]
  },
  {
   "cell_type": "markdown",
   "id": "91fa762b",
   "metadata": {},
   "source": [
    "### **<span style= \"color: red;\">2017</span>**  \n",
    "\n",
    "1. **Google’s YouTube TV Launch**: February 28, 2017   \n",
    "2. **Google Acquires Kaggle**: March 8, 2017\n",
    "3. **Google’s Q1 Earnings Report**: April 27, 2017   \n",
    "4. **Google Acquires Owlchemy Labs**: May 10, 2017\n",
    "5. **Google I/O Developer Conference**: May 17-19, 2017  \n",
    "6. **Google Acquires Halli Labs**: July 12, 2017  \n",
    "7. **Google Acquires AIMatter**: August 16, 2017​  \n",
    "8. **Google Acquires HTC's Pixel Team**: September 20, 2017\n",
    "9. **Launch of Google Pixel 2**: October 4, 2017  \n",
    "10. **Google’s Q3 Earnings Report**: October 26, 2017  \n",
    " "
   ]
  },
  {
   "cell_type": "markdown",
   "id": "3b070b34",
   "metadata": {},
   "source": [
    "### **<span style= \"color: yellow;\">2018</span>**   \n",
    "\n",
    "1. **Google acquired Tenor**: March 27, 2018  \n",
    "2. **Google I/O Developers Conference**: May 8-10, 2018  \n",
    "3. **Launch of Google One Subscription Service**: May 14, 2018\n",
    "4. **Google Podcasts Launch**: June 18, 2018  \n",
    "5. **Google's $5 Billion Fine by the European Commission**: July 18, 2018    \n",
    "6. **Rebranding of Google AdWords to Google Ads**: July 24, 2018\n",
    "7. **Google Cloud Next '18 Conference**: July 24-26, 2018  \n",
    "8. **Google Home Hub Introduction**: October 9, 2018   \n",
    "9. **Pixel 3 and Pixel 3 XL Release**: October 18, 2018    \n",
    " "
   ]
  },
  {
   "cell_type": "markdown",
   "id": "989e66fe",
   "metadata": {},
   "source": [
    "### **<span style= \"color: blue;\">2019</span>**  \n",
    "\n",
    "1. **Stadia Announcement**: March 19, 2019  \n",
    "2. **Google+ Consumer Shutdown**: April 2, 2019  \n",
    "3. **Pixel 3a and 3a XL Launch**: May 7, 2019  \n",
    "4. **Google I/O 2019**: May 7–9, 2019  \n",
    "5. **Acquisition of Looker**: June 6, 2019  \n",
    "6. **Google Pay Expansion**: September 19, 2019  \n",
    "7. **Pixel 4 and Pixel 4 XL Release**: October 15, 2019  \n",
    "8. **Pixelbook Go Launch**: October 15, 2019  \n",
    "9. **Stadia Launch**: November 19, 2019    "
   ]
  },
  {
   "cell_type": "markdown",
   "id": "2b0b4ff4",
   "metadata": {},
   "source": [
    "### **<span style= \"color: green;\">2020</span>**  \n",
    "\n",
    "1. **Acquisition of AppSheet**: January 14, 2020  \n",
    "2. **Google Maps 15th Anniversary**: February 6, 2020  \n",
    "3. **Google Meet Free Access**: April 30, 2020  \n",
    "4. **Android 11 Beta Release**: June 10, 2020  \n",
    "5. **Google Photos Redesign**: June 26, 2020  \n",
    "6. **Pixel 4a Announced**: August 3, 2020  \n",
    "7. **Pixel 5 and Pixel 4a 5G Release**: September 30, 2020  \n",
    "8. **Nest Audio Speaker Launch**: October 5, 2020  \n",
    "9. **Google Workspace Rebranding**: October 6, 2020  \n"
   ]
  },
  {
   "cell_type": "markdown",
   "id": "1105250e",
   "metadata": {},
   "source": [
    "### **<span style= \"color: red;\">2021</span>**  \n",
    "\n",
    "1. **Second-Generation Nest Hub Launch**: March 16, 2021\n",
    "2. **Google I/O Developers Conference**: May 18-20, 2021  \n",
    "3. **Google Workspace Individual Launch**: July 12, 2021  \n",
    "4. **Pixel 6 and Pixel 6 Pro Announcement**: August 2, 2021  \n",
    "5. **Google Calendar Focus Time Feature**: September 9, 2021  \n",
    "6. **Pixel 6 and Pixel 6 Pro Official Release**: October 19, 2021  \n",
    "7. **Google Photos introduces \"Magic Eraser\" feature**: October 20, 2021  \n",
    "8. **Google for India**: December 1, 2021    "
   ]
  },
  {
   "cell_type": "markdown",
   "id": "077685e2",
   "metadata": {},
   "source": [
    "### **<span style= \"color: blue;\">2022</span>**  \n",
    "\n",
    "1. **Google acquires cybersecurity company Mandiant**: March 8, 2022  \n",
    "2. **Google I/O Developers Conference**: May 11-12, 2022  \n",
    "3. **Google Pixel 6a Launch and Pixel Buds Pro Release**: July 28, 2022  \n",
    "4. **Google Introduces New Features for Android 13**: August 15, 2022  \n",
    "5. **Google Stadia Shutdown Announcement**: September 29, 2022  \n",
    "6. **Google Pixel 7, 7 Pro, and Watch Announcement**: October 6, 2022  \n",
    "7. **Google Cloud Next '22**: October 11-13, 2022  \n",
    "8. **Google’s $391.5 Million Settlement in Location Tracking Case**: November 14, 2022    \n",
    "  \n"
   ]
  },
  {
   "cell_type": "markdown",
   "id": "799e93ac",
   "metadata": {},
   "source": [
    "### **<span style= \"color: red;\">2023</span>**  \n",
    "\n",
    "1. **Google Bard AI Announcement**: February 6, 2023  \n",
    "2. **Google Workspace generative AI features**: March 15, 2023  \n",
    "3. **Google I/O 2023:**:  May 10, 2023  \n",
    "4. **Google Cloud AI services expansion**: June 20, 2023  \n",
    "5. **Google Integrates AI-powered Search Summaries**: August 2, 2023  \n",
    "6. **Made by Google Event**: October 4, 2023  \n",
    "7. **YouTube launches AI-generated video highlights**: December 1, 2023  \n",
    "8. **Google DeepMind Gemini AI Launch**: December 6, 2023  "
   ]
  },
  {
   "cell_type": "markdown",
   "id": "aa8ba839-5555-46b2-9c02-b18cfbdc2a35",
   "metadata": {},
   "source": [
    "### **<span style= \"color: yellow;\">2024</span>**  \n",
    "\n",
    "1. **Android Auto Updates**: January 9, 2024  \n",
    "2. **Google Announces Pixel 8a**: May 7, 2024  \n",
    "3. **Google I/O Develpers Conference**: May 14-15, 2024  \n",
    "4. **Google Acquires Cameyo**: June 5, 2024  \n",
    "5. **Made by Google Event**: August 13, 2024  \n",
    "6. **Release of Google TV Streamer**: September 24, 2024  \n",
    "7. **Launch of Android 15 and Gemini Nano**: October 15, 2024   \n",
    "8. **Android XR Announcement**: December 12, 2024"
   ]
  }
 ],
 "metadata": {
  "kernelspec": {
   "display_name": "base",
   "language": "python",
   "name": "python3"
  },
  "language_info": {
   "codemirror_mode": {
    "name": "ipython",
    "version": 3
   },
   "file_extension": ".py",
   "mimetype": "text/x-python",
   "name": "python",
   "nbconvert_exporter": "python",
   "pygments_lexer": "ipython3",
   "version": "3.12.4"
  }
 },
 "nbformat": 4,
 "nbformat_minor": 5
}
